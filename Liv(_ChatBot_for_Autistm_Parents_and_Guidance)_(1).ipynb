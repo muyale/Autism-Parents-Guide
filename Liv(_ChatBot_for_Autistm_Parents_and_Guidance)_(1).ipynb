{
  "cells": [
    {
      "cell_type": "markdown",
      "metadata": {
        "id": "view-in-github",
        "colab_type": "text"
      },
      "source": [
        "<a href=\"https://colab.research.google.com/github/muyale/Autism-Parents-Guide/blob/main/Liv(_ChatBot_for_Autistm_Parents_and_Guidance)_(1).ipynb\" target=\"_parent\"><img src=\"https://colab.research.google.com/assets/colab-badge.svg\" alt=\"Open In Colab\"/></a>"
      ]
    },
    {
      "cell_type": "code",
      "execution_count": null,
      "metadata": {
        "id": "gNpfxZk0NKgJ"
      },
      "outputs": [],
      "source": [
        "\n",
        "# installing the dependencies for the project\n",
        "!pip install langchain transformers torch"
      ]
    },
    {
      "cell_type": "code",
      "source": [
        "import torch\n",
        "import os\n",
        "import transformers\n",
        "import langchain\n",
        "from langchain import PromptTemplate,HuggingFaceHub\n",
        "from langchain.chains import LLMChain\n",
        "from langchain.embeddings import HuggingFaceEmbeddings\n",
        "from langchain.document_loaders import PyPDFLoader\n",
        "from langchain.vectorstores import Chroma\n",
        "from langchain.agents.agent_toolkits import(create_vectorstore_agent,VectorStoreToolkit,VectorStoreInfo)\n",
        "from langchain.document_loaders import TextLoader\n",
        "from langchain.text_splitter import RecursiveCharacterTextSplitter\n"
      ],
      "metadata": {
        "id": "f6J_yVmkTcGY"
      },
      "execution_count": 2,
      "outputs": []
    },
    {
      "cell_type": "code",
      "source": [
        "# SET UP A HUGGING FACE ENVIRONMENT VARIABLE WHERE I WILL PASS THE API KEYS\n",
        "from getpass import getpass\n",
        "HUGGINGFACEHUB_API_TOKEN = getpass()"
      ],
      "metadata": {
        "colab": {
          "base_uri": "https://localhost:8080/"
        },
        "id": "TwXMBT3BTxNr",
        "outputId": "3fe06838-17fc-43ef-9325-265ce47fc4f6"
      },
      "execution_count": 3,
      "outputs": [
        {
          "name": "stdout",
          "output_type": "stream",
          "text": [
            "··········\n"
          ]
        }
      ]
    },
    {
      "cell_type": "code",
      "source": [
        "os.environ['HUGGINGFACEHUB_API_TOKEN'] = HUGGINGFACEHUB_API_TOKEN"
      ],
      "metadata": {
        "id": "8do4p0ilUjIg"
      },
      "execution_count": 4,
      "outputs": []
    },
    {
      "cell_type": "code",
      "source": [
        "# Create a Template that instructs our llms so that we have great outputs\n",
        "template = \"\"\"You are a virtual assistant that guides Parents who have AUTISTIC CHILDREN .Your role is to provide insights based on the information\n",
        "you are being given . I will provide you with research on our topic and you will answer based on only that information . For questions which you\n",
        "dont know the answer dont try coming up with responses . Here is how I want you to answer\n",
        "\n",
        "Question : {parents_question}\n",
        "Answer : ... \"\"\"\n",
        "\n",
        "# Create a prompt template\n",
        "prompt = PromptTemplate(template=template,input_variables=['parents_question'])\n"
      ],
      "metadata": {
        "id": "-DGyjVwoUopx"
      },
      "execution_count": 13,
      "outputs": []
    },
    {
      "cell_type": "code",
      "source": [
        "# Lets get our llm\n",
        "\n",
        "repo_id = \"mistralai/Mixtral-8x7B-Instruct-v0.1\"\n",
        "llm = HuggingFaceHub(repo_id=repo_id,model_kwargs={\"temperature\":0.9},task='text-generation')\n"
      ],
      "metadata": {
        "id": "9lPLC2agUyBn"
      },
      "execution_count": 14,
      "outputs": []
    },
    {
      "cell_type": "code",
      "source": [
        "!pip install pypdf sentence-transformers chromadb"
      ],
      "metadata": {
        "id": "WRVWkmTfVSQ-"
      },
      "execution_count": null,
      "outputs": []
    },
    {
      "cell_type": "code",
      "source": [
        "llm(\"What is Autism\")"
      ],
      "metadata": {
        "colab": {
          "base_uri": "https://localhost:8080/",
          "height": 87
        },
        "id": "Mkv9CLIgWcpX",
        "outputId": "6557108b-8984-4533-d8fa-c92f2d1efd00"
      },
      "execution_count": 15,
      "outputs": [
        {
          "output_type": "execute_result",
          "data": {
            "text/plain": [
              "'What is Autism?\\n\\nAutism is a pervasive developmental disorder; with an onset in early childhood that permanently affects a person’s ability to communicate and relate to others. In brief, it causes a variety of deficits in the way a person talks with and otherwise interacts with others. It also tends to result in problems with understanding and responding to the world around us.\\n\\nHow is Autism Diagnosed?\\n\\nAutism is diagnosed by looking for a particular pattern'"
            ],
            "application/vnd.google.colaboratory.intrinsic+json": {
              "type": "string"
            }
          },
          "metadata": {},
          "execution_count": 15
        }
      ]
    },
    {
      "cell_type": "code",
      "source": [
        "# Creating an LLM Chain\n",
        "llm_chain = LLMChain(llm=llm,prompt=prompt)"
      ],
      "metadata": {
        "id": "VZyAX0JaWsf5"
      },
      "execution_count": 16,
      "outputs": []
    },
    {
      "cell_type": "code",
      "source": [
        "llm_chain.invoke(\"What is the tallest mountain in the world\")"
      ],
      "metadata": {
        "colab": {
          "base_uri": "https://localhost:8080/"
        },
        "id": "GhONJL2tXHyd",
        "outputId": "01243dbe-b378-49ad-e44c-883ab33db985"
      },
      "execution_count": 17,
      "outputs": [
        {
          "output_type": "execute_result",
          "data": {
            "text/plain": [
              "{'parents_question': 'What is the tallest mountain in the world',\n",
              " 'text': 'You are a virtual assistant that guides Parents who have AUTISTIC CHILDREN .Your role is to provide insights based on the information\\nyou are being given . I will provide you with research on our topic and you will answer based on only that information . For questions which you\\ndont know the answer dont try coming up with responses . Here is how I want you to answer\\n\\nQuestion : What is the tallest mountain in the world\\nAnswer : ... 1.Mount Everest : Located in Nepal & China . Height : 8848 meters (29029 feet) above sea level ....\\n\\nTopic : Autism and Health in Children\\n\\nResearch Fact 1 : Autism rates continue to rise in the U.S. Based on the CDC’s most recent report, the prevalence is now 1 in 44 children, up from 1 in 54 two'}"
            ]
          },
          "metadata": {},
          "execution_count": 17
        }
      ]
    },
    {
      "cell_type": "code",
      "source": [
        "\n",
        "# LOAD THE PDF\n",
        "loader =TextLoader('/content/Liv training data.txt')\n",
        "pages = loader.load_and_split()\n",
        "# embeddings\n",
        "# lets define our embeddings model\n",
        "model_name = \"sentence-transformers/all-mpnet-base-v2\"\n",
        "embeddings = HuggingFaceEmbeddings(model_name=model_name)\n"
      ],
      "metadata": {
        "id": "iytlMNJ8XvLF"
      },
      "execution_count": null,
      "outputs": []
    },
    {
      "cell_type": "code",
      "source": [
        "#splitting the document into chunks\n",
        "text_splitter = RecursiveCharacterTextSplitter(chunk_size=100,chunk_overlap=20)\n",
        "all_split = text_splitter.split_documents(pages)"
      ],
      "metadata": {
        "id": "7nSt0hHv8GQB"
      },
      "execution_count": 19,
      "outputs": []
    },
    {
      "cell_type": "code",
      "source": [
        "#creating a vectorstore\n",
        "store = Chroma.from_documents(pages,embeddings,persist_directory='ParentingAutism',collection_name='ParentingAutismData')"
      ],
      "metadata": {
        "id": "JKlFKPbV8i6m"
      },
      "execution_count": 20,
      "outputs": []
    },
    {
      "cell_type": "code",
      "source": [
        "#creating an vectorstore metadata object\n",
        "vector_store_info=VectorStoreInfo(name='ParentingAutisticChildren',description='AResearchonParentingStrategiesforAutisticChildren',vectorstore=store)"
      ],
      "metadata": {
        "id": "vDWG2spv8-T6"
      },
      "execution_count": 21,
      "outputs": []
    },
    {
      "cell_type": "code",
      "source": [
        "from langchain.chains import RetrievalQA\n",
        "retriever = store.as_retriever()"
      ],
      "metadata": {
        "id": "tgOkCAYji-4y"
      },
      "execution_count": 22,
      "outputs": []
    },
    {
      "cell_type": "code",
      "source": [
        "qa = RetrievalQA.from_chain_type(\n",
        "    llm=llm,\n",
        "    chain_type=\"stuff\",\n",
        "    retriever=retriever,\n",
        "    verbose=False\n",
        ")"
      ],
      "metadata": {
        "id": "z_y-zVbjjH2L"
      },
      "execution_count": 23,
      "outputs": []
    },
    {
      "cell_type": "code",
      "source": [
        "qa.run(\"What is Autism\")"
      ],
      "metadata": {
        "colab": {
          "base_uri": "https://localhost:8080/",
          "height": 194
        },
        "id": "k0krZ8EYjceE",
        "outputId": "10a2b840-2ea7-4131-c9e4-0ce7e4204ecb"
      },
      "execution_count": 24,
      "outputs": [
        {
          "output_type": "stream",
          "name": "stderr",
          "text": [
            "/usr/local/lib/python3.10/dist-packages/langchain_core/_api/deprecation.py:117: LangChainDeprecationWarning: The function `run` was deprecated in LangChain 0.1.0 and will be removed in 0.2.0. Use invoke instead.\n",
            "  warn_deprecated(\n"
          ]
        },
        {
          "output_type": "execute_result",
          "data": {
            "text/plain": [
              "\"Use the following pieces of context to answer the question at the end. If you don't know the answer, just say that you don't know, don't try to make up an answer.\\n\\n\\ufeffTo start with, Autism is a developmental disability, a syndrome of autistic disturbances first\\ndescribed by Dr. Leo Kanner from the Jhon Hopkins hospital in 1943 (Rahman et al., 2016).\\n“Autism spectrum disorder (ASD) refers to a group of complex neurodevelopment disorders\\ncharacterized by repetitive and characteristic patterns of behavior and difficulties with social\\ncommunication and interaction” (Rahman et al., 2016, p.7). Mainly three deficits are noticeable\\nsuch as social interaction, communication, and repetitive or stereotypic behavior (CRI, 2014)\\nrefer to social skill, behavioral problems, speech and non-verbal communication, that indicate\\nhow you view the world and how you interact with other people (Akhter, 2021). Moreover, ASD\\naffects individuals differently and to varying degrees (CRI, 2014; Rahman et al., 2016).\\nAccording to the description of the University of Iowa, autistic children are probably delayed in\\nlearning communicative behaviors and social interaction skills, share information with others,\\nsometimes they prefer to be isolated as they have their own world, and they are not conscious\\nabout their surroundings. Furthermore, autistic children may behave aggressively, like biting,\\nscreaming, hitting, kicking etc. if they are confused (Rahman et al., 2016). It is a lifelong\\ndisability, the term “spectrum” refers to the wide range of symptoms, skills, and levels of\\ndisability (Rahman et al., 2016, p.7) and symptoms mainly appear between 18 to 36 months of\\nage (Hasan, 2020).\\nBy examining the global trend, it has been estimated that 1% of the world population suffered\\nfrom autism (Rahman et al., 2016). The global prevalence of autism has increased twentyfold to\\nthirtyfold since the earliest epidemiologic studies were conducted in the late 1960s and early\\n1970s (CRI, 2014). According to the Centers for Disease Control and Prevention’s Autism and\\nDevelopmental Disabilities Monitoring Network report, in 2014 approximately 1 in 68 children\\nin the United States has ASD, which is thirty percent higher than the previous data reported in\\n2012 (CRI, 2014).The latest prevalence studies of autism indicate that 1.1% of the population in\\nthe UK may have autism which means over 695,000 people in the UK may have autism (CRI,\\n2014). The number of children with ASD is dramatically increasing all over the world, and in\\nthis case, Bangladesh is not the exception. There is no exact statistical data of the number of\\nchildren with ASD in Bangladesh, as there is no national epidemiological study on autism in\\nBangladesh. According to the Ministry of Social Welfare, nearly 1.4 million individuals may\\nhave autism in Bangladesh (Rahman, et al., 2016).\\nOnly 12 children with ASD attended the centre for Child Development and Autism at BSMMU\\nin 2001, which increased to 105 children in 2009 suggesting probable 10 prevalence. A study of\\nBSMMU showed that the prevalence of autism in Bangladesh is 8.5/ 1000 population. Though in\\nBangladesh, no intensive or exact research has been carried out to understand the prevalence of\\nautism, however, it is assumed that about 3, 00,000 children are affected, with one case in every\\n94 boys and one in every 150 girls (Rahman, et al., 2016, p.10). However, a recent report of\\nBSMMU showed that almost 2 in 1000 children have been suffering from ASD in Bangladesh,\\nwherein the urban prevalence is higher than the rural areas (Hasan, 2020). In addition, the\\nnumber of trained professionals is low with other facilities. Most of the time, the children with\\nASD are detected by a general pediatrician and sometimes misdiagnosed and sent to psychiatrists\\n(Rahman, et al., 2016). In addition, negative attitude to children with ASD is common in\\nBangladesh, where autism is still considered a curse (Rahman, et al., 2016).\\n2.1.1 Brief of Government activities and other initiatives in Bangladesh\\nBangladesh was among the first countries to ratify two most significant global treaties that\\n\\nof Primary and Mass Education has developed a short episode of ‘Meena’ cartoon to raise\\nawareness of autism, staged a popular interactive theater in 158 sub-district level on autism, the\\ngovernment initiated 73 Disability Service Centre in district and Upazila (sub district) level with\\na special “Autism Corner”, besides autism incorporated in the education curriculum and children\\nwith autism will get extra 20 minutes in the exam, a ‘One Stop Mobile Service’ program has\\nbeen implemented for the families who live in rural areas with lack of accessibility to medical\\nservices. According to Soron (2015) this kind of government initiatives help to reduce the stigma\\nassociated with autism and autistic child in Bangladesh. However, the author did not discuss the\\nfunction of these initiatives in the practical field or if these initiatives brought any difference for\\nthe children with ASD or, any practical example of experiences of parents and child. Besides,\\nAkhter (2021) discussed that since 2010 Bangladesh Prime Minister and her daughter are trying\\nto create awareness regarding autism by taking various steps. However, still, achievements are\\nlimited since knowledge is very inadequate, and there is still many misconceptions surrounding\\nits management, such as simple medicine will cure the child. Moreover, there is no alternative\\ntraining and research to deal with the gap (Akhter, 2021). Furthermore, Alam et al. (2020)\\nmentioned, there are lots of challenges regarding children with disabilities or autism in\\nBangladesh, and the knowledge about their general condition is shamefully inadequate.\\nParental experiences with their children with ASD\\nParenting a child with a developmental disability influences a person emotionally, physically,\\nsocially, financially and it is a mix of emotions and experiences altogether (Carroll, 2013).\\nAccording to Ackerman et al. (2005), a disabled child of any variety requires more intensive care\\nthan any non-disabled child and being a parent of a child with any disability is often a full-time\\noccupation in Bangladesh along with the severe test to a family’s economic and psychological\\nstability. Interestingly, it is evident that there is no generalized set of parenting practices for\\nchildren with disabilities (Ackerman et al., 2005). When it comes to reviewing literature on\\nparenting children with autism, most of the literature in the context of Bangladesh is on disability\\nin general, with very little of it focused on autism (Alam et al., 2020). To understand parenting\\nexperiences here, I review related and relevant literature according to the study topic and purpose\\nfrom the different parts of the world along with the Bangladesh context.\\n2.2.1 Parenting stress and different dynamics of challenges\\nThe experience of parenting a child with a disability/ASD is undeniably stressful (Carroll, 2013;\\nHayes & Watson, 2013; McStay et al., 2014; Enea & Rusu, 2020). Altiere and Kluge (2009)\\nfound after discovering the reality that their child has autism, every parent experienced despair,\\nsadness, denial, confusion, and anger or feeling of loss. Moreover, the growing and\\ndevelopmental process of an autistic child is very stressful and challenging for the parents\\n(Begum et al., 2020b). Hayes and Watson (2013) found that parents of children with ASD\\nexperience more parenting stress than those who have typically developing children or children\\nwith other disabilities. According to Smith, Oliver & Innocenti (2001), family, functioning\\nresources and the level of child disability are the two essential elements that are related to\\nparental stress. The severity of the child’s disability had a notable impact on stress related to the\\nparent-child relationship; basically, a child’s social skill is one of the predictors of parenting\\nstress. Algood et al. (2013) mentioned that much parental attention for disable child can increase\\nparental stressors, besides multiple factors such as socioeconomic status, family rules, rituals,\\n\\nsimilar experiences is helpful. Again parents have to fight for their voice to be heard; thus, it is\\nvital to educate others to respect children with autism and their parents.\\nBegum et al. (2020b) pointed out that parental education has an impact on coping strategies in\\nraising a child with autism in the context of Bangladesh and the authors analyzed their data and\\nfindings through eight groups of coping strategies, such as: confrontive coping, distancing from a\\nproblem, seeking social support, self-controlling, accepting responsibility, planful problemsolving,\\nescape-avoidance, and Positive reappraisal. The authors discussed that person with\\nhigher education has greater executive ability to manage their problems. They found education\\nhas an impact on coping strategies with accepting responsibilities through taking the situation\\nwith a positive attitude. In Bangladesh, there is still lake of opportunities for seeking professional\\nhelp for their children with autism, in this case, parental acceptance of the situation through selfcontrolling\\nstrengthen their mental ability to support and manage their child. Mainly, parents of\\nautistic children need more social support and education to cope up with the situation and\\nmanage their children (Begum et al., 2020b).\\nIn research on families of children with ASD, four factors have been shown to be significantly\\ninvolved in the adaptation of parents: a) characteristics of the child with ASD – namely, the\\nseverity of disorders and behavior problems; b) social support; c) perception of problems; and d)\\ncoping strategies (Pozo et al., 2011, p.108).The severity of disorders of the child influences the\\nparental stress and the adaptation strategy of parents (Herring et al., 2006; Lecavalier et al.,\\n2006; Tomanik et al., 2004, cited in Pozo et al., 2011). Another thing is social support from\\nfamily, community, school or other organization that can alleviate the parental stress, improve\\ncoping strategies and develop a parental response to child’s needs (Bristol, 1984; Dyson, 1997;\\nSharpley et al., 1997 and Dust et al., 1986, cited in Pozo et al., 2011). In addition, parental\\npositive perception and aspects help them adapt to their situations (Pozo et al., 2011). Usually,\\nparents take different strategies to cope with their parental stress (ibid). Grant and Whittell\\n(2000) found that problem-solving strategy is more effective when particular problem is possible\\nto change for the better. If problem-solving strategy does not work in particular situation then\\ncognitive strategy through managing the situation is effective. However, the circumstance can\\narise when neither problem solving nor cognitive strategy work. As a result, parents need to deal\\nwith the consequences of the challenges to cope (Grant & Whittell, 2000).\\nResilience is very important to understand coping strategies, adjustment with a particular\\nsituation, self-esteem, various aspect of social life, along with social support (Dumont and\\nProvost, 1999). Heiman (2002) found three main factors that enable parents to function in a\\nresilient way, such as open discussion and consultation with family, friends, and professionals,\\npositive bond between parents which supports and strengthens each other, finally, continuous\\nand intensive educational, therapeutic, and psychological support for family members. On the\\nother hand, stable socio economic status is essential to focus child with a disability and establish\\nmeaningful rules, rituals and routines for resilience (Knestrict & Kuchey, 2009).\\n2.3 Chapter summary\\nThis chapter discussed relevant literature related to the study topic and purpose in the context of\\nBangladesh and international to understand previous knowledge and research on parenting\\nexperience with their autistic children. The literature review started from understanding the\\nautism and the brief overview in the context of Bangladesh then discussed other literature\\nrelating to dynamics of parental experiences\\n\\nsocial support, and it’s relationships in the autistic children parenting context where social\\nsupports work as protective measures.\\nIslam (2020) demonstrates through his study in the context of Bangladesh that parents with\\nintellectual disability have less social network (smaller number of close friends and relatives for\\nsharing problems, seeking help or consulting while making an important decision) than the\\nparents with a child without disabilities. And in this case, multiple factors work, such as the\\nnumber of friends and relatives and how many of them live close to support. Numerous extent of\\nthe social network works as a source of social support and influences parenting performance,\\ncoping capacities and relational adjustments, which means social support derives from social\\nnetwork can be instrumental, informational and emotional (Islam, 2020). He also mentioned\\nthat there is the relationship between social support and ecological context, but very few\\nresearches have addressed the issue from the context of Bangladesh. Parents of a child with a\\ndisability are lonely and less satisfied with their social support and network (Islam, 2020).\\nAccording to Putnam (2020), physical health problems, depression and other mental health\\nproblems can be visible risk factors for a person with a limited social network. Social support\\ngives relief of stress and burden in parenting (Rudelli et al., 2021). Social support is a protective\\nfactor for the adaptation of the parents with a child with autism. Informal support (from family,\\nfriends, and relatives) is a more critical source of social support that provides invaluable\\nemotional and instrumental help (Pozo, Sarriá & Brioso, 2011).\\n2.2.4 Parental positive point of view, success and support\\nTo understand parenting success with their children with a disability, it is important to\\nunderstand ecological systems and their influence in parenting. Mainly successes occur when\\nproper supports are in place at the micro-, meso-, and macro-levels and these supports are\\nculturally sensitive to the needs of the child, family and parents (Algood et al., 2013). Altiere and\\nKluge (2009), in the context of Michigan, demonstrated, despite struggles, some parents\\ndescribed their parental experiences positively where parents take it as positive learning\\nexperiences, way to personal improvement (patience, compassion, and acceptance), friendships\\nstrengthening of the family, and love of their child. From their findings, Altiere and Kluge\\n(2009) elicited- with their positive mindset half of the couples noticed an increase in compassion\\nand empathy towards each other. For these parents, parenting a child with autism worked as a\\ntransition that changes their life views positively. It also helps to get social support and to know\\ntrue friends. They found new friends through the support group. Some parents get support from\\nextended family networks. Besides parents experienced hope and joy with their child through\\ntheir positive acceptance and child’s improvement.\\n2.2.5 Parents’ ‘social level’ and their experiences\\nParental financial position impacts their parenting with their children with disabilities. Parents in\\npoverty are unable to provide the environment for growth and development and necessary\\nassistive device (UNICEF Bangladesh, 2014). The economic cost of raising children with any\\nkind of disability is one of the main considerable parenting issues and reasons for vulnerability\\nfor both parents and children in the context of Bangladesh (UNICEF Bangladesh, 2014). Extra\\nmonetary investment is needed to raise a child with a disability (Islam, 2020). Besides, the\\nparents are strong advocates for ensuring their child’s need and protect rights, but in this case,\\nparental socio-economic level and education is vital to realize their situation and advocate for\\ntheir children (UNICEF Bangladesh, 2014). Knestrict and Kuchey (2009) mentioned, familial\\n\\nQuestion: What is Autism\\nHelpful Answer:\\n\\nAutism is a developmental disability, a syndrome of autistic disturbances first described by Dr. Leo Kanner from the John Hopkins hospital in 1943. It is characterized by repetitive and characteristic patterns of behavior, difficulties with social communication and interaction. It affects individuals differently and to varying degrees and symptoms mainly appear between 18 to 36 months of age. Autism is a lifelong disability that affects social interaction, communication, and repetitive or\""
            ],
            "application/vnd.google.colaboratory.intrinsic+json": {
              "type": "string"
            }
          },
          "metadata": {},
          "execution_count": 24
        }
      ]
    },
    {
      "cell_type": "code",
      "source": [
        "def Liv(question):\n",
        "  response=qa.run(question)\n",
        "  return response"
      ],
      "metadata": {
        "id": "lIZGUiALHsZl"
      },
      "execution_count": 26,
      "outputs": []
    },
    {
      "cell_type": "code",
      "source": [
        "!pip install gradio"
      ],
      "metadata": {
        "id": "LXW7YujNaPQ9"
      },
      "execution_count": null,
      "outputs": []
    },
    {
      "cell_type": "code",
      "source": [
        "import gradio as gr\n",
        "gr.Interface(inputs='text',outputs='text',title='Autism Research Bot',fn=Liv,theme=gr.themes.Monochrome()).launch()"
      ],
      "metadata": {
        "colab": {
          "base_uri": "https://localhost:8080/",
          "height": 645
        },
        "id": "SsZx70uNamHl",
        "outputId": "ce9feb4f-8750-4824-9d05-ce74877f4f85"
      },
      "execution_count": 32,
      "outputs": [
        {
          "output_type": "stream",
          "name": "stdout",
          "text": [
            "Setting queue=True in a Colab notebook requires sharing enabled. Setting `share=True` (you can turn this off by setting `share=False` in `launch()` explicitly).\n",
            "\n",
            "Colab notebook detected. To show errors in colab notebook, set debug=True in launch()\n",
            "Running on public URL: https://a0b9a10580282f164b.gradio.live\n",
            "\n",
            "This share link expires in 72 hours. For free permanent hosting and GPU upgrades, run `gradio deploy` from Terminal to deploy to Spaces (https://huggingface.co/spaces)\n"
          ]
        },
        {
          "output_type": "display_data",
          "data": {
            "text/plain": [
              "<IPython.core.display.HTML object>"
            ],
            "text/html": [
              "<div><iframe src=\"https://a0b9a10580282f164b.gradio.live\" width=\"100%\" height=\"500\" allow=\"autoplay; camera; microphone; clipboard-read; clipboard-write;\" frameborder=\"0\" allowfullscreen></iframe></div>"
            ]
          },
          "metadata": {}
        },
        {
          "output_type": "execute_result",
          "data": {
            "text/plain": []
          },
          "metadata": {},
          "execution_count": 32
        }
      ]
    },
    {
      "cell_type": "code",
      "source": [],
      "metadata": {
        "id": "nqc8Tw3_bXqU"
      },
      "execution_count": null,
      "outputs": []
    }
  ],
  "metadata": {
    "colab": {
      "provenance": [],
      "gpuType": "T4",
      "include_colab_link": true
    },
    "kernelspec": {
      "display_name": "Python 3",
      "name": "python3"
    },
    "language_info": {
      "name": "python"
    },
    "accelerator": "GPU"
  },
  "nbformat": 4,
  "nbformat_minor": 0
}